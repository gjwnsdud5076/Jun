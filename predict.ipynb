{
  "nbformat": 4,
  "nbformat_minor": 0,
  "metadata": {
    "colab": {
      "name": "predict",
      "provenance": [],
      "collapsed_sections": [],
      "authorship_tag": "ABX9TyPRSGdyv/vnGJ5D1wAwk1gd",
      "include_colab_link": true
    },
    "kernelspec": {
      "name": "python3",
      "display_name": "Python 3"
    },
    "accelerator": "GPU"
  },
  "cells": [
    {
      "cell_type": "markdown",
      "metadata": {
        "id": "view-in-github",
        "colab_type": "text"
      },
      "source": [
        "<a href=\"https://colab.research.google.com/github/gjwnsdud5076/Jun/blob/master/predict.ipynb\" target=\"_parent\"><img src=\"https://colab.research.google.com/assets/colab-badge.svg\" alt=\"Open In Colab\"/></a>"
      ]
    },
    {
      "cell_type": "markdown",
      "metadata": {
        "id": "MvF6mu8zR9zH"
      },
      "source": [
        "# object 예측과 crop"
      ]
    },
    {
      "cell_type": "markdown",
      "metadata": {
        "id": "dnICied1rpsw"
      },
      "source": [
        "test용 jpg / trained weight 업로드하기"
      ]
    },
    {
      "cell_type": "code",
      "metadata": {
        "colab": {
          "base_uri": "https://localhost:8080/"
        },
        "id": "ZBTSLY9ArLhO",
        "outputId": "91410614-45ef-4bfe-9958-8df2a407e566"
      },
      "source": [
        "!git clone 'https://github.com/gjwnsdud5076/drug.git'"
      ],
      "execution_count": 2,
      "outputs": [
        {
          "output_type": "stream",
          "text": [
            "Cloning into 'drug'...\n",
            "remote: Enumerating objects: 21, done.\u001b[K\n",
            "remote: Counting objects: 100% (21/21), done.\u001b[K\n",
            "remote: Compressing objects: 100% (19/19), done.\u001b[K\n",
            "remote: Total 21 (delta 1), reused 0 (delta 0), pack-reused 0\u001b[K\n",
            "Unpacking objects: 100% (21/21), done.\n"
          ],
          "name": "stdout"
        }
      ]
    },
    {
      "cell_type": "code",
      "metadata": {
        "colab": {
          "base_uri": "https://localhost:8080/"
        },
        "id": "7o6sQZckNVlu",
        "outputId": "9f26eda5-9af5-4ff0-825e-41ee8f261950"
      },
      "source": [
        "!git clone  'https://github.com/ultralytics/yolov5.git'"
      ],
      "execution_count": 3,
      "outputs": [
        {
          "output_type": "stream",
          "text": [
            "Cloning into 'yolov5'...\n",
            "remote: Enumerating objects: 3271, done.\u001b[K\n",
            "remote: Total 3271 (delta 0), reused 0 (delta 0), pack-reused 3271\u001b[K\n",
            "Receiving objects: 100% (3271/3271), 6.48 MiB | 34.39 MiB/s, done.\n",
            "Resolving deltas: 100% (2180/2180), done.\n"
          ],
          "name": "stdout"
        }
      ]
    },
    {
      "cell_type": "code",
      "metadata": {
        "colab": {
          "base_uri": "https://localhost:8080/"
        },
        "id": "3U5rTX7gNVom",
        "outputId": "2c47e3d8-abb3-4a63-e526-d739e2932224"
      },
      "source": [
        "!pip install -qr '/content/yolov5/requirements.txt'  # install dependencies"
      ],
      "execution_count": 4,
      "outputs": [
        {
          "output_type": "stream",
          "text": [
            "\u001b[?25l\r\u001b[K     |█▏                              | 10kB 31.5MB/s eta 0:00:01\r\u001b[K     |██▍                             | 20kB 37.1MB/s eta 0:00:01\r\u001b[K     |███▋                            | 30kB 23.2MB/s eta 0:00:01\r\u001b[K     |████▉                           | 40kB 18.4MB/s eta 0:00:01\r\u001b[K     |██████                          | 51kB 13.7MB/s eta 0:00:01\r\u001b[K     |███████▎                        | 61kB 14.4MB/s eta 0:00:01\r\u001b[K     |████████▌                       | 71kB 14.1MB/s eta 0:00:01\r\u001b[K     |█████████▊                      | 81kB 13.9MB/s eta 0:00:01\r\u001b[K     |███████████                     | 92kB 14.1MB/s eta 0:00:01\r\u001b[K     |████████████▏                   | 102kB 13.9MB/s eta 0:00:01\r\u001b[K     |█████████████▍                  | 112kB 13.9MB/s eta 0:00:01\r\u001b[K     |██████████████▋                 | 122kB 13.9MB/s eta 0:00:01\r\u001b[K     |███████████████▉                | 133kB 13.9MB/s eta 0:00:01\r\u001b[K     |█████████████████               | 143kB 13.9MB/s eta 0:00:01\r\u001b[K     |██████████████████▎             | 153kB 13.9MB/s eta 0:00:01\r\u001b[K     |███████████████████▌            | 163kB 13.9MB/s eta 0:00:01\r\u001b[K     |████████████████████▊           | 174kB 13.9MB/s eta 0:00:01\r\u001b[K     |██████████████████████          | 184kB 13.9MB/s eta 0:00:01\r\u001b[K     |███████████████████████▏        | 194kB 13.9MB/s eta 0:00:01\r\u001b[K     |████████████████████████▎       | 204kB 13.9MB/s eta 0:00:01\r\u001b[K     |█████████████████████████▌      | 215kB 13.9MB/s eta 0:00:01\r\u001b[K     |██████████████████████████▊     | 225kB 13.9MB/s eta 0:00:01\r\u001b[K     |████████████████████████████    | 235kB 13.9MB/s eta 0:00:01\r\u001b[K     |█████████████████████████████▏  | 245kB 13.9MB/s eta 0:00:01\r\u001b[K     |██████████████████████████████▍ | 256kB 13.9MB/s eta 0:00:01\r\u001b[K     |███████████████████████████████▋| 266kB 13.9MB/s eta 0:00:01\r\u001b[K     |████████████████████████████████| 276kB 13.9MB/s \n",
            "\u001b[?25h  Building wheel for PyYAML (setup.py) ... \u001b[?25l\u001b[?25hdone\n"
          ],
          "name": "stdout"
        }
      ]
    },
    {
      "cell_type": "markdown",
      "metadata": {
        "id": "ggu76J2a8FOl"
      },
      "source": [
        "detect.py 바꾸기"
      ]
    },
    {
      "cell_type": "code",
      "metadata": {
        "colab": {
          "base_uri": "https://localhost:8080/",
          "height": 35
        },
        "id": "CNlGfZW48EFK",
        "outputId": "53261bb9-26a3-42ce-be30-3fcfebc42612"
      },
      "source": [
        "import os\r\n",
        "os.chdir('/content/yolov5')\r\n",
        "os.getcwd()"
      ],
      "execution_count": 5,
      "outputs": [
        {
          "output_type": "execute_result",
          "data": {
            "application/vnd.google.colaboratory.intrinsic+json": {
              "type": "string"
            },
            "text/plain": [
              "'/content/yolov5'"
            ]
          },
          "metadata": {
            "tags": []
          },
          "execution_count": 5
        }
      ]
    },
    {
      "cell_type": "code",
      "metadata": {
        "colab": {
          "resources": {
            "http://localhost:8080/nbextensions/google.colab/files.js": {
              "data": "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",
              "ok": true,
              "headers": [
                [
                  "content-type",
                  "application/javascript"
                ]
              ],
              "status": 200,
              "status_text": ""
            }
          },
          "base_uri": "https://localhost:8080/",
          "height": 76
        },
        "id": "veL6yc1k8cDx",
        "outputId": "ca5bd608-420b-4235-87bb-afd7b7bb6771"
      },
      "source": [
        "from google.colab import files\r\n",
        "uploaded = files.upload()"
      ],
      "execution_count": 6,
      "outputs": [
        {
          "output_type": "display_data",
          "data": {
            "text/html": [
              "\n",
              "     <input type=\"file\" id=\"files-3f1adeaa-1eca-46cd-9891-d53f9d711c8a\" name=\"files[]\" multiple disabled\n",
              "        style=\"border:none\" />\n",
              "     <output id=\"result-3f1adeaa-1eca-46cd-9891-d53f9d711c8a\">\n",
              "      Upload widget is only available when the cell has been executed in the\n",
              "      current browser session. Please rerun this cell to enable.\n",
              "      </output>\n",
              "      <script src=\"/nbextensions/google.colab/files.js\"></script> "
            ],
            "text/plain": [
              "<IPython.core.display.HTML object>"
            ]
          },
          "metadata": {
            "tags": []
          }
        },
        {
          "output_type": "stream",
          "text": [
            "Saving detect (1).py to detect (1).py\n"
          ],
          "name": "stdout"
        }
      ]
    },
    {
      "cell_type": "code",
      "metadata": {
        "colab": {
          "base_uri": "https://localhost:8080/",
          "height": 35
        },
        "id": "1CFqSG7o8tKc",
        "outputId": "047498b5-8c15-4878-834c-cfc2a2cffb58"
      },
      "source": [
        "os.chdir('/content')\r\n",
        "os.getcwd()"
      ],
      "execution_count": 7,
      "outputs": [
        {
          "output_type": "execute_result",
          "data": {
            "application/vnd.google.colaboratory.intrinsic+json": {
              "type": "string"
            },
            "text/plain": [
              "'/content'"
            ]
          },
          "metadata": {
            "tags": []
          },
          "execution_count": 7
        }
      ]
    },
    {
      "cell_type": "code",
      "metadata": {
        "colab": {
          "base_uri": "https://localhost:8080/"
        },
        "id": "OPiJlsNPNVrh",
        "outputId": "b6903597-e7e5-4b62-e6cd-f6c2400a85eb"
      },
      "source": [
        "output = !python 'yolov5/detect (1).py' --source \"/content/drug/box/*.jpg\" --weights '/content/drug/best.pt' --save-txt\n",
        "print(output)"
      ],
      "execution_count": 8,
      "outputs": [
        {
          "output_type": "stream",
          "text": [
            "[\"Namespace(agnostic_nms=False, augment=False, classes=None, conf_thres=0.25, device='', exist_ok=False, img_size=640, iou_thres=0.45, name='exp', project='runs/detect', save_conf=False, save_txt=True, source='/content/drug/box/*.jpg', update=False, view_img=False, weights=['/content/drug/best.pt'])\", 'Using torch 1.7.0+cu101 CUDA:0 (Tesla T4, 15079MB)', '', 'Fusing layers... ', 'Model Summary: 232 layers, 7246518 parameters, 0 gradients, 16.8 GFLOPS', 'image 1/3 /content/drug/box/jiheum (10).jpg: 352x640 3 texts, Done. (0.030s)', 'image 2/3 /content/drug/box/jiheum (11).jpg: 352x640 3 texts, Done. (0.012s)', 'image 3/3 /content/drug/box/jiheum (12).jpg: 352x640 7 texts, Done. (0.010s)', 'Results saved to runs/detect/exp', '3 labels saved to runs/detect/exp/labels', 'Done. (0.244s)']\n"
          ],
          "name": "stdout"
        }
      ]
    },
    {
      "cell_type": "markdown",
      "metadata": {
        "id": "gk3kavZ8SmOK"
      },
      "source": [
        "'Results saved to runs/detect/exp(횟수)', '3 labels saved to runs/detect/exp(횟수)/labels'"
      ]
    },
    {
      "cell_type": "markdown",
      "metadata": {
        "id": "ZHodzCyC1Xsl"
      },
      "source": [
        "crop"
      ]
    },
    {
      "cell_type": "code",
      "metadata": {
        "colab": {
          "base_uri": "https://localhost:8080/"
        },
        "id": "tKsdSqZ23zw7",
        "outputId": "8392ee78-3400-4551-8e57-2e3cd8df38b0"
      },
      "source": [
        "path='/content/drug/box/jiheum (10).jpg'\r\n",
        "name=path.split(\"/\")[4].split(\".\")\r\n",
        "name=name[0]\r\n",
        "print(name)\r\n"
      ],
      "execution_count": 9,
      "outputs": [
        {
          "output_type": "stream",
          "text": [
            "jiheum (10)\n"
          ],
          "name": "stdout"
        }
      ]
    },
    {
      "cell_type": "code",
      "metadata": {
        "colab": {
          "base_uri": "https://localhost:8080/"
        },
        "id": "y7_2vIAm1lDj",
        "outputId": "ddf16179-7842-40c4-e6a2-277389365cae"
      },
      "source": [
        "import re\r\n",
        "path='/content/runs/detect/exp/labels/jiheum (10).txt'\r\n",
        "myfile=open(path,'r')\r\n",
        "lines=myfile.readlines()\r\n",
        "pattern= \"0\"\r\n",
        "\r\n",
        "boxes=[]\r\n",
        "for line in lines:\r\n",
        "  if re.search(pattern,line):\r\n",
        "    Cord_Raw=line\r\n",
        "    Cord=Cord_Raw.split( )\r\n",
        "    boxes.append(Cord)\r\n",
        "\r\n",
        "print(boxes)"
      ],
      "execution_count": 12,
      "outputs": [
        {
          "output_type": "stream",
          "text": [
            "[['0', '494', '169', '525', '205'], ['0', '197', '164', '242', '212'], ['0', '531', '169', '562', '206']]\n"
          ],
          "name": "stdout"
        }
      ]
    },
    {
      "cell_type": "code",
      "metadata": {
        "id": "UY42WxtZ2vd4"
      },
      "source": [
        "import cv2\r\n",
        "img = cv2.imread(\"/content/drug/box/jiheum (10).jpg\")\r\n",
        "cnt = 0\r\n",
        "for box in boxes:\r\n",
        "    a=box[2] \r\n",
        "    b=box[4]\r\n",
        "    c=box[1]\r\n",
        "    d=box[3]\r\n",
        "    crop_img = img[int(a):int(b), int(c):int(d)]\r\n",
        "    cropped_img='/content/drug/crop_img/S/'+name+\"_\"+str(cnt)+\".jpg\"\r\n",
        "    cv2.imwrite(cropped_img,crop_img)\r\n",
        "    cnt += 1\r\n"
      ],
      "execution_count": 26,
      "outputs": []
    },
    {
      "cell_type": "code",
      "metadata": {
        "id": "ccn6W-HzMhs6"
      },
      "source": [
        "!cp '/content/drug/LeNet5_model.py' 'LeNet5_model.py'"
      ],
      "execution_count": 15,
      "outputs": []
    },
    {
      "cell_type": "markdown",
      "metadata": {
        "id": "B1owqSx5JEn1"
      },
      "source": [
        "약 정보가 담길 곳 drug_info \r\n",
        "글자, 색상, 모양 순"
      ]
    },
    {
      "cell_type": "code",
      "metadata": {
        "id": "fFPmxiXMJUqs"
      },
      "source": [
        "drug_info=[]"
      ],
      "execution_count": 17,
      "outputs": []
    },
    {
      "cell_type": "markdown",
      "metadata": {
        "id": "tYs-YxhLR22V"
      },
      "source": [
        "# 글자예측"
      ]
    },
    {
      "cell_type": "code",
      "metadata": {
        "colab": {
          "base_uri": "https://localhost:8080/"
        },
        "id": "xHaqj11a_801",
        "outputId": "8b02a31e-4ef7-4ebf-da28-2c167f0d41c3"
      },
      "source": [
        "import torch\r\n",
        "import torchvision.transforms as transforms\r\n",
        "from torchvision.datasets import ImageFolder\r\n",
        "from torch.utils.data import DataLoader\r\n",
        "from LeNet5_model import LeNet5_model, Config\r\n",
        "#import matplotlib.pyplot as pp\r\n",
        "\r\n",
        "\r\n",
        "if __name__ == \"__main__\":\r\n",
        "    cfg = Config()\r\n",
        "\r\n",
        "    device = torch.device(\"cpu\")  \r\n",
        "    print(\"device:\", device)\r\n",
        "\r\n",
        "    # 모델 생성\r\n",
        "    model = LeNet5_model()\r\n",
        "\r\n",
        "\r\n",
        "    if torch.cuda.is_available():\r\n",
        "        model = model.to(device)\r\n",
        "\r\n",
        "    model.eval()\r\n",
        "\r\n",
        "    save_path = \"/content/drug/epoch_21.pth\"\r\n",
        "    checkpoint = torch.load(save_path)\r\n",
        "    model.load_state_dict(checkpoint['model_state_dict'])\r\n",
        "\r\n",
        "\r\n",
        "    classes = ('O', 'P', 'Q', 'R', 'S', 'T', 'U')\r\n",
        "\r\n",
        "    transforms_test = transforms.Compose([\r\n",
        "        transforms.Resize([42, 42]),\r\n",
        "        transforms.ToTensor(),\r\n",
        "        transforms.Normalize((0.4914, 0.4822, 0.4465), (0.2023, 0.1994, 0.2010)),\r\n",
        "    ])\r\n",
        "\r\n",
        "    imgs = ImageFolder('/content/drug/crop_img', transform=transforms_test)\r\n",
        "    print(\"img shape\",imgs[0][0].shape)\r\n",
        "    print(\"imgs:\", imgs)\r\n",
        "    test_loader = DataLoader(imgs, batch_size=1)\r\n",
        "\r\n",
        "\r\n",
        "    print(\"test_loader:\", test_loader)\r\n",
        "    print(test_loader.dataset)\r\n",
        "    text = []\r\n",
        "    for thisimg, label in test_loader:\r\n",
        "        pred = model.forward(thisimg.to(device))\r\n",
        "        _, top_pred = torch.topk(pred, k=1, dim=-1)\r\n",
        "        top_pred = top_pred.squeeze(dim=1)\r\n",
        "        print(\"--------------------------------------\")\r\n",
        "        #print(\"truth:\", classes[label])\r\n",
        "        print(\"model prediction:\", classes[top_pred])\r\n",
        "        text.append(classes[top_pred])\r\n",
        "\r\n",
        "drug_info.append(text)\r\n"
      ],
      "execution_count": 31,
      "outputs": [
        {
          "output_type": "stream",
          "text": [
            "device: cpu\n",
            "img shape torch.Size([3, 42, 42])\n",
            "imgs: Dataset ImageFolder\n",
            "    Number of datapoints: 3\n",
            "    Root location: /content/drug/crop_img\n",
            "    StandardTransform\n",
            "Transform: Compose(\n",
            "               Resize(size=[42, 42], interpolation=PIL.Image.BILINEAR)\n",
            "               ToTensor()\n",
            "               Normalize(mean=(0.4914, 0.4822, 0.4465), std=(0.2023, 0.1994, 0.201))\n",
            "           )\n",
            "test_loader: <torch.utils.data.dataloader.DataLoader object at 0x7fa5cde959b0>\n",
            "Dataset ImageFolder\n",
            "    Number of datapoints: 3\n",
            "    Root location: /content/drug/crop_img\n",
            "    StandardTransform\n",
            "Transform: Compose(\n",
            "               Resize(size=[42, 42], interpolation=PIL.Image.BILINEAR)\n",
            "               ToTensor()\n",
            "               Normalize(mean=(0.4914, 0.4822, 0.4465), std=(0.2023, 0.1994, 0.201))\n",
            "           )\n",
            "--------------------------------------\n",
            "model prediction: P\n",
            "--------------------------------------\n",
            "model prediction: O\n",
            "--------------------------------------\n",
            "model prediction: S\n"
          ],
          "name": "stdout"
        }
      ]
    },
    {
      "cell_type": "markdown",
      "metadata": {
        "id": "9uy4XNwyL1ZK"
      },
      "source": [
        "# 색상 예측하기"
      ]
    },
    {
      "cell_type": "code",
      "metadata": {
        "colab": {
          "base_uri": "https://localhost:8080/"
        },
        "id": "9DT8TNg1LsFt",
        "outputId": "27fb42ff-175f-4a74-ab2c-5358ccff0cb5"
      },
      "source": [
        "    #src = cv2.imread('black.JPG', cv2.IMREAD_COLOR)\r\n",
        "    src = cv2.imread(cropped_img, cv2.IMREAD_COLOR)\r\n",
        "    hsv = cv2.cvtColor(src, cv2.COLOR_BGR2HSV)\r\n",
        "    h, s, v = cv2.split(hsv)\r\n",
        "\r\n",
        "    H=h[2][2]*2\r\n",
        "    S=s[2][2]/255\r\n",
        "    V=v[2][2]/255\r\n",
        "    print(H, S, V)\r\n",
        "    W = (1 - S)*V*100 #HSV to HWB\r\n",
        "    B = (1 - V)*100\r\n",
        "\r\n",
        "    print(H, W, B)\r\n",
        "\r\n",
        "    if (90<=W<=100)|(W+B>=95):\r\n",
        "        if  85<=B<=100:\r\n",
        "         drug_info.append(\"black\")\r\n",
        "        else:\r\n",
        "         drug_info.append(\"white\")\r\n",
        "    # W+B>=95:\r\n",
        "    #   return \"gray\"\r\n",
        "    elif (0<=H<13)|(346<=H<=360):\r\n",
        "        drug_info.append(\"red\")\r\n",
        "    elif 13<=H<28:\r\n",
        "        drug_info.append(\"orange\")\r\n",
        "    elif 28<=H<63:\r\n",
        "        drug_info.append(\"yellow\")\r\n",
        "    elif 63<=H<163:\r\n",
        "        if B>=30:\r\n",
        "            drug_info.append(\"green\")\r\n",
        "        else:\r\n",
        "            drug_info.append(\"연두색\")\r\n",
        "    elif 163<=H<172:\r\n",
        "        drug_info.append(\"청록색\")\r\n",
        "    elif 172<=H<260:\r\n",
        "        if B>=41:\r\n",
        "            drug_info.append(\"남색\")\r\n",
        "        else:\r\n",
        "            drug_info.append(\"blue\")\r\n",
        "    elif 260<=H<286:\r\n",
        "        drug_info.append(\"purple\")\r\n",
        "    elif 286<=H<346:\r\n",
        "        if B>=17:\r\n",
        "            drug_info.append(\"자주색\")\r\n",
        "        else:\r\n",
        "            drug_info.append(\"pink\")\r\n",
        "    else:\r\n",
        "        drug_info.append(\"error\")\r\n"
      ],
      "execution_count": 41,
      "outputs": [
        {
          "output_type": "stream",
          "text": [
            "354 0.3568627450980392 0.10980392156862745\n",
            "354 7.061899269511726 89.01960784313725\n"
          ],
          "name": "stdout"
        }
      ]
    },
    {
      "cell_type": "code",
      "metadata": {
        "colab": {
          "base_uri": "https://localhost:8080/"
        },
        "id": "PB75GAjCQXUV",
        "outputId": "a8ad61c2-5bff-4942-afc4-8d913180796d"
      },
      "source": [
        "print(drug_info)"
      ],
      "execution_count": 42,
      "outputs": [
        {
          "output_type": "stream",
          "text": [
            "[['P', 'O', 'S'], 'white', 'white', 'white', 'black']\n"
          ],
          "name": "stdout"
        }
      ]
    },
    {
      "cell_type": "markdown",
      "metadata": {
        "id": "ZD80WsjKV6qD"
      },
      "source": [
        "# 모양 예측하기"
      ]
    },
    {
      "cell_type": "code",
      "metadata": {
        "colab": {
          "base_uri": "https://localhost:8080/"
        },
        "id": "bJMjROAcYL5T",
        "outputId": "12c34b6b-8533-486a-9c82-f8c8c9747e75"
      },
      "source": [
        "!mkdir shape\r\n",
        "!cp  '/content/drug/box/jiheum (10).jpg' 'shape/jiheum (10).jpg'"
      ],
      "execution_count": 46,
      "outputs": [
        {
          "output_type": "stream",
          "text": [
            "mkdir: cannot create directory ‘shape’: File exists\n",
            "/bin/bash: -c: line 0: syntax error near unexpected token `('\n",
            "/bin/bash: -c: line 0: `cp str(img) 'shape/jiheum (10).jpg''\n"
          ],
          "name": "stdout"
        }
      ]
    },
    {
      "cell_type": "code",
      "metadata": {
        "colab": {
          "base_uri": "https://localhost:8080/"
        },
        "id": "RNlGCFc0V9nU",
        "outputId": "0e0d7d22-af0f-4fa8-d388-6350fc42f457"
      },
      "source": [
        "import torch\r\n",
        "import torchvision.transforms as transforms\r\n",
        "from torchvision.datasets import ImageFolder\r\n",
        "from torch.utils.data import DataLoader\r\n",
        "from LeNet5_model_shape import LeNet5_model, Config\r\n",
        "import cv2\r\n",
        "from os import listdir\r\n",
        "from os.path import isfile, join\r\n",
        "import numpy\r\n",
        "\r\n",
        "if __name__ == \"__main__\":\r\n",
        "    cfg = Config()\r\n",
        "\r\n",
        "    device = torch.device(\"cpu\")\r\n",
        "    print(\"device:\", device)\r\n",
        "\r\n",
        "    # 모델 생성\r\n",
        "    model = LeNet5_model()\r\n",
        "\r\n",
        "    model.eval()\r\n",
        "\r\n",
        "    save_path = \"/content/drug/epoch_36.pth\"\r\n",
        "    checkpoint = torch.load(save_path)\r\n",
        "    model.load_state_dict(checkpoint['model_state_dict'])\r\n",
        "\r\n",
        "\r\n",
        "    classes = ('circle', 'diamond', 'hexagon6', 'number8', 'octagon', 'oval', 'ovlong', 'pentagon5', 'rectangle', 'triangle')\r\n",
        "\r\n",
        "    transforms_test = transforms.Compose([\r\n",
        "        transforms.Resize([78,42]),\r\n",
        "        transforms.ToTensor(),\r\n",
        "        transforms.Normalize((0.4914, 0.4822, 0.4465), (0.2023, 0.1994, 0.2010)),\r\n",
        "    ])\r\n",
        "\r\n",
        "\r\n",
        "    imgs = ImageFolder('/content/shape', transform=transforms_test)\r\n",
        "    print(\"img shape\",imgs[0][0].shape)\r\n",
        "    print(\"imgs:\", imgs)\r\n",
        "    test_loader = DataLoader(imgs, batch_size=1)\r\n",
        "\r\n",
        "\r\n",
        "    print(\"test_loader:\", test_loader)\r\n",
        "    print(test_loader.dataset)\r\n",
        "\r\n",
        "    for thisimg, label in test_loader:\r\n",
        "        pred = model.forward(thisimg.to(device))\r\n",
        "        _, top_pred = torch.topk(pred, k=1, dim=-1)\r\n",
        "        top_pred = top_pred.squeeze(dim=1)\r\n",
        "        print(\"--------------------------------------\")\r\n",
        "        print(\"truth:\", classes[label])\r\n",
        "        print(\"model prediction:\", classes[top_pred])\r\n",
        "        drug_info.append(classes[top_pred])\r\n",
        "\r\n"
      ],
      "execution_count": 61,
      "outputs": [
        {
          "output_type": "stream",
          "text": [
            "device: cpu\n",
            "img shape torch.Size([3, 78, 42])\n",
            "imgs: Dataset ImageFolder\n",
            "    Number of datapoints: 1\n",
            "    Root location: /content/shape\n",
            "    StandardTransform\n",
            "Transform: Compose(\n",
            "               Resize(size=[78, 42], interpolation=PIL.Image.BILINEAR)\n",
            "               ToTensor()\n",
            "               Normalize(mean=(0.4914, 0.4822, 0.4465), std=(0.2023, 0.1994, 0.201))\n",
            "           )\n",
            "test_loader: <torch.utils.data.dataloader.DataLoader object at 0x7fa5cd3e0588>\n",
            "Dataset ImageFolder\n",
            "    Number of datapoints: 1\n",
            "    Root location: /content/shape\n",
            "    StandardTransform\n",
            "Transform: Compose(\n",
            "               Resize(size=[78, 42], interpolation=PIL.Image.BILINEAR)\n",
            "               ToTensor()\n",
            "               Normalize(mean=(0.4914, 0.4822, 0.4465), std=(0.2023, 0.1994, 0.201))\n",
            "           )\n",
            "--------------------------------------\n",
            "truth: diamond\n",
            "model prediction: circle\n"
          ],
          "name": "stdout"
        }
      ]
    },
    {
      "cell_type": "markdown",
      "metadata": {
        "id": "j03zUhIkfpOf"
      },
      "source": [
        "# 결과"
      ]
    },
    {
      "cell_type": "code",
      "metadata": {
        "colab": {
          "base_uri": "https://localhost:8080/"
        },
        "id": "3fyXEg88fsI3",
        "outputId": "ded92cdd-510a-4926-d5a2-e3550f93ab29"
      },
      "source": [
        "print(drug_info)"
      ],
      "execution_count": 64,
      "outputs": [
        {
          "output_type": "stream",
          "text": [
            "[['P', 'O', 'S'], 'white', 'white', 'white', 'black', 'circle']\n"
          ],
          "name": "stdout"
        }
      ]
    }
  ]
}